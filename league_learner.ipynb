{
 "cells": [
  {
   "cell_type": "markdown",
   "metadata": {},
   "source": [
    "## imports"
   ]
  },
  {
   "cell_type": "code",
   "execution_count": 3,
   "metadata": {},
   "outputs": [],
   "source": [
    "import torch\n",
    "import torch.nn as nn\n",
    "import torch.optim as optim\n",
    "import torch.nn.functional as F\n",
    "from torchvision import datasets, transforms\n",
    "from torch.utils.data import DataLoader\n",
    "import matplotlib.pyplot as plt\n",
    "import numpy as np"
   ]
  },
  {
   "cell_type": "markdown",
   "metadata": {},
   "source": [
    "## initialize variables"
   ]
  },
  {
   "cell_type": "code",
   "execution_count": 68,
   "metadata": {},
   "outputs": [
    {
     "name": "stdout",
     "output_type": "stream",
     "text": [
      "DEVICE = device(type='cpu')\n",
      "Song order: tensor([[14.,  6., 10., 12.,  4.,  9., 18., 16.,  5., 17., 15.,  7.,  8., 13.,\n",
      "          3.,  1., 11.,  2., 19.]])\n",
      "Target rank: tensor([[17., 14.,  5.,  2., 11.,  7.,  6., 19., 13.,  1., 12.,  8., 15., 18.,\n",
      "          4.,  3., 10., 16.,  9.]])\n"
     ]
    }
   ],
   "source": [
    "DEVICE: torch.device = torch.device(\"cuda:0\" if torch.cuda.is_available() else \"cpu\")\n",
    "print(f\"{DEVICE = }\")\n",
    "\n",
    "competitor_count = 19  # number of competitors\n",
    "song_order = np.random.choice(np.arange(1, competitor_count + 1), size=competitor_count, replace=False)\n",
    "song_order_tensor = torch.from_numpy(song_order).float()\n",
    "song_order_tensor = song_order_tensor.view(1, -1)\n",
    "print(\"Song order:\", song_order_tensor)\n",
    "\n",
    "target_rank = np.random.choice(np.arange(1, competitor_count + 1), size=competitor_count, replace=False)\n",
    "target_rank_tensor = torch.from_numpy(target_rank).float()\n",
    "target_rank_tensor = target_rank_tensor.view(1,-1)\n",
    "print(\"Target rank:\", target_rank_tensor)"
   ]
  },
  {
   "cell_type": "markdown",
   "metadata": {},
   "source": [
    "## simple neural network"
   ]
  },
  {
   "cell_type": "code",
   "execution_count": 69,
   "metadata": {},
   "outputs": [],
   "source": [
    "class LeagueNN(nn.Module):\n",
    "    def __init__(self, input_size: int, hidden_size: int, output_size: int) -> None:\n",
    "        super(LeagueNN, self).__init__()\n",
    "        # affine transformations\n",
    "        self.lin1 = nn.Linear(input_size, hidden_size) \n",
    "        # with nonlinearities in between\n",
    "        self.relu = nn.ReLU()\n",
    "        self.lin2 = nn.Linear(hidden_size, output_size)\n",
    "\n",
    "    def forward(self, x: torch.Tensor) -> torch.Tensor:\n",
    "        # apply things in sequence\n",
    "        out = self.lin1(x.flatten(start_dim=1))\n",
    "        out = self.relu(out)\n",
    "        out = self.lin2(out)\n",
    "        return out\n"
   ]
  },
  {
   "cell_type": "markdown",
   "metadata": {},
   "source": [
    "## test model"
   ]
  },
  {
   "cell_type": "code",
   "execution_count": 65,
   "metadata": {},
   "outputs": [
    {
     "name": "stdout",
     "output_type": "stream",
     "text": [
      "Epoch [100/3000], Loss: 106.7840\n",
      "Epoch [200/3000], Loss: 86.5023\n",
      "Epoch [300/3000], Loss: 70.0727\n",
      "Epoch [400/3000], Loss: 56.7636\n",
      "Epoch [500/3000], Loss: 45.9824\n",
      "Epoch [600/3000], Loss: 37.2489\n",
      "Epoch [700/3000], Loss: 30.1741\n",
      "Epoch [800/3000], Loss: 24.4431\n",
      "Epoch [900/3000], Loss: 19.8005\n",
      "Epoch [1000/3000], Loss: 16.0398\n",
      "Epoch [1100/3000], Loss: 12.9933\n",
      "Epoch [1200/3000], Loss: 10.5255\n",
      "Epoch [1300/3000], Loss: 8.5263\n",
      "Epoch [1400/3000], Loss: 6.9069\n",
      "Epoch [1500/3000], Loss: 5.5951\n",
      "Epoch [1600/3000], Loss: 4.5324\n",
      "Epoch [1700/3000], Loss: 3.6715\n",
      "Epoch [1800/3000], Loss: 2.9742\n",
      "Epoch [1900/3000], Loss: 2.4093\n",
      "Epoch [2000/3000], Loss: 1.9517\n",
      "Epoch [2100/3000], Loss: 1.5810\n",
      "Epoch [2200/3000], Loss: 1.2807\n",
      "Epoch [2300/3000], Loss: 1.0375\n",
      "Epoch [2400/3000], Loss: 0.8404\n",
      "Epoch [2500/3000], Loss: 0.6808\n",
      "Epoch [2600/3000], Loss: 0.5515\n",
      "Epoch [2700/3000], Loss: 0.4468\n",
      "Epoch [2800/3000], Loss: 0.3619\n",
      "Epoch [2900/3000], Loss: 0.2932\n",
      "Epoch [3000/3000], Loss: 0.2375\n",
      "Predictions after training: tensor([[ 7.6650, 11.4917,  4.7898,  3.8213, 15.3068, 10.5327, 18.1932,  2.8626,\n",
      "          0.9541,  5.7458,  1.9083,  8.6087,  9.5682, 17.2306, 13.4057,  6.6957,\n",
      "         12.4347, 14.3632, 16.2860]])\n",
      "Actual target: tensor([[ 8., 12.,  5.,  4., 16., 11., 19.,  3.,  1.,  6.,  2.,  9., 10., 18.,\n",
      "         14.,  7., 13., 15., 17.]])\n"
     ]
    }
   ],
   "source": [
    "# instantiate\n",
    "model = LeagueNN(\n",
    "    input_size = 19,\n",
    "    hidden_size = 10,\n",
    "    output_size = 19\n",
    ")\n",
    "\n",
    "# loss\n",
    "loss_criterion = nn.MSELoss() \n",
    "optimizer = optim.SGD(model.parameters(), lr=0.01)\n",
    "\n",
    "epochs = 3000\n",
    "for epoch in range(epochs):\n",
    "    # Forward pass\n",
    "    outputs = model(song_order_tensor)\n",
    "    \n",
    "    # Compute the loss\n",
    "    loss = loss_criterion(outputs, target_rank_tensor)\n",
    "    \n",
    "    # Backward pass and optimization\n",
    "    optimizer.zero_grad()  # Zero gradients before backward pass\n",
    "    loss.backward()        # Compute gradients\n",
    "    optimizer.step()       # Update the weights\n",
    "    \n",
    "    if (epoch + 1) % 100 == 0:  # Print loss every 100 epochs\n",
    "        print(f\"Epoch [{epoch+1}/{epochs}], Loss: {loss.item():.4f}\")\n",
    "\n",
    "# Test the trained model\n",
    "with torch.no_grad():  # No need to compute gradients during inference\n",
    "    predicted = model(song_order_tensor)\n",
    "    print(\"Predictions after training:\", predicted)\n",
    "    print(\"Actual target:\", target_rank_tensor)"
   ]
  }
 ],
 "metadata": {
  "kernelspec": {
   "display_name": "Python 3",
   "language": "python",
   "name": "python3"
  },
  "language_info": {
   "codemirror_mode": {
    "name": "ipython",
    "version": 3
   },
   "file_extension": ".py",
   "mimetype": "text/x-python",
   "name": "python",
   "nbconvert_exporter": "python",
   "pygments_lexer": "ipython3",
   "version": "3.12.3"
  }
 },
 "nbformat": 4,
 "nbformat_minor": 2
}
